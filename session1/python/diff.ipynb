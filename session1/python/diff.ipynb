{
 "cells": [
  {
   "cell_type": "markdown",
   "metadata": {},
   "source": [
    "# Numberical differentiation\n",
    "\n",
    "Ref: [Algorithms for Optimization](https://mitpress.mit.edu/9780262039420/algorithms-for-optimization/)\n",
    "\n",
    "![book](https://mit-press-us.imgix.net/covers/9780262039420.jpg?auto=format&w=298&dpr=1&q=20)"
   ]
  },
  {
   "cell_type": "markdown",
   "metadata": {},
   "source": [
    "$$\n",
    "\\underbrace{f'(x) \\approx \\frac{f(x+h) - f(x)}{h}}_{\\text{Forward difference}} \\approx \\underbrace{f'(x) \\approx \\frac{f(x+h/2) - f(x-h/2)}{h}}_{\\text{Central difference}} \\approx \\underbrace{f'(x) \\approx \\frac{f(x) - f(x+h)}{h}}_{\\text{backward difference}}\n",
    "\n",
    "$$"
   ]
  },
  {
   "cell_type": "markdown",
   "metadata": {},
   "source": [
    "> We often run into the problem of needing to choose a step size $h$ small enough to provide a good approximation but not too small so as to lead to numerical substractive cancellation errors."
   ]
  },
  {
   "cell_type": "markdown",
   "metadata": {},
   "source": [
    "## Complex Step Method"
   ]
  },
  {
   "cell_type": "markdown",
   "metadata": {},
   "source": [
    "$$\n",
    "f(x+ih) = f(x) + ihf'(x) - h^{2}\\frac{f''(x)}{2!} -ih^{3} \\frac{f'''(x)}{3!} + \\cdots\n",
    "$$"
   ]
  },
  {
   "cell_type": "markdown",
   "metadata": {},
   "source": [
    "$$\n",
    "f'(x) = \\frac{\\text{Im}(f(x+ih))}{h} + \\mathcal{O}(h^2)\n",
    "$$"
   ]
  },
  {
   "cell_type": "code",
   "execution_count": 1,
   "metadata": {},
   "outputs": [],
   "source": [
    "def diff(f, x, h=1e-20):\n",
    "\treturn f(x + h * 1j).imag / h"
   ]
  },
  {
   "cell_type": "code",
   "execution_count": 5,
   "metadata": {},
   "outputs": [
    {
     "data": {
      "text/plain": [
       "10.0"
      ]
     },
     "execution_count": 5,
     "metadata": {},
     "output_type": "execute_result"
    }
   ],
   "source": [
    "diff(lambda x: x**2, 5)"
   ]
  },
  {
   "cell_type": "code",
   "execution_count": 4,
   "metadata": {},
   "outputs": [
    {
     "data": {
      "text/plain": [
       "0.7071067811865476"
      ]
     },
     "execution_count": 4,
     "metadata": {},
     "output_type": "execute_result"
    }
   ],
   "source": [
    "from cmath import sin, cos, pi\n",
    "\n",
    "diff(sin, pi/4)"
   ]
  },
  {
   "cell_type": "code",
   "execution_count": null,
   "metadata": {},
   "outputs": [],
   "source": []
  }
 ],
 "metadata": {
  "kernelspec": {
   "display_name": "venv",
   "language": "python",
   "name": "python3"
  },
  "language_info": {
   "codemirror_mode": {
    "name": "ipython",
    "version": 3
   },
   "file_extension": ".py",
   "mimetype": "text/x-python",
   "name": "python",
   "nbconvert_exporter": "python",
   "pygments_lexer": "ipython3",
   "version": "3.11.3"
  },
  "orig_nbformat": 4
 },
 "nbformat": 4,
 "nbformat_minor": 2
}
